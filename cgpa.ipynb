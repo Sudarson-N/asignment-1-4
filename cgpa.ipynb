{
 "cells": [
  {
   "cell_type": "code",
   "execution_count": 2,
   "id": "a32ffbe7",
   "metadata": {},
   "outputs": [
    {
     "name": "stdout",
     "output_type": "stream",
     "text": [
      "enter number of subject= 5\n",
      "enter the subject= ssd\n",
      "enter the grade= a\n",
      "enter the credit points= 2\n",
      "enter the subject= ems\n",
      "enter the grade= a+\n",
      "enter the credit points= 2\n",
      "enter the subject= psg\n",
      "enter the grade= b+\n",
      "enter the credit points= 1\n",
      "enter the subject= ipr\n",
      "enter the grade= o\n",
      "enter the credit points= 2\n",
      "enter the subject= sem\n",
      "enter the grade= a\n",
      "enter the credit points= 2\n",
      "-----------------------------------------------------------\n",
      "--------------------cgpa calculator------------------------\n",
      "subject =  ssd    grade  points =  8   credit point =  2\n",
      "subject =  ems    grade  points =  9   credit point =  2\n",
      "subject =  psg    grade  points =  7   credit point =  1\n",
      "subject =  ipr    grade  points =  10   credit point =  2\n",
      "subject =  sem    grade  points =  8   credit point =  2\n",
      "-----------------------------------------------------------\n",
      "cgpa is  8.555555555555555\n",
      "-----------------------------------------------------------\n"
     ]
    }
   ],
   "source": [
    "\n",
    "subject=[]\n",
    "grade=[]\n",
    "point={\"o\":10,\"a+\":9,\"a\":8,\"b+\":7,\"b\":6,\"u\":0}\n",
    "credit=[]\n",
    "total=[]\n",
    "num=int(input('enter number of subject= '))\n",
    "for i in range(0,num):\n",
    "    q=input('enter the subject= ')\n",
    "    subject.append(q)\n",
    "    w=input('enter the grade= ')\n",
    "    r=point[w]\n",
    "    grade.append(r)\n",
    "    g=int(input('enter the credit points= '))\n",
    "    credit.append(g)\n",
    "product=[x*y for x,y in zip(grade,credit)]\n",
    "tproduct=sum(product)\n",
    "tcredit=sum(credit)\n",
    "cgpa=tproduct/tcredit\n",
    "print(\"-----------------------------------------------------------\")\n",
    "print(\"--------------------cgpa calculator------------------------\")\n",
    "for k in range(0,num):\n",
    "    print(\"subject = \" ,subject[k],\"   grade  points = \",grade[k],\"  credit point = \", credit[k])\n",
    "print(\"-----------------------------------------------------------\")\n",
    "print(\"cgpa is \", cgpa)\n",
    "print(\"-----------------------------------------------------------\") \n",
    "\n",
    "  "
   ]
  },
  {
   "cell_type": "code",
   "execution_count": null,
   "id": "e6caf9d0",
   "metadata": {},
   "outputs": [],
   "source": []
  }
 ],
 "metadata": {
  "kernelspec": {
   "display_name": "Python 3 (ipykernel)",
   "language": "python",
   "name": "python3"
  },
  "language_info": {
   "codemirror_mode": {
    "name": "ipython",
    "version": 3
   },
   "file_extension": ".py",
   "mimetype": "text/x-python",
   "name": "python",
   "nbconvert_exporter": "python",
   "pygments_lexer": "ipython3",
   "version": "3.9.7"
  }
 },
 "nbformat": 4,
 "nbformat_minor": 5
}

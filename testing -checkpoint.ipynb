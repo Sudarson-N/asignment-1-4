{
 "cells": [
  {
   "cell_type": "code",
   "execution_count": 2,
   "id": "d73b1308",
   "metadata": {},
   "outputs": [
    {
     "name": "stdout",
     "output_type": "stream",
     "text": [
      "mean   =  54.54545454545455\n",
      "median =  50.0\n",
      "mode   =  0    50\n",
      "dtype: int64\n",
      "std    =  28.762349126466134\n",
      "var    =  827.2727272727273\n",
      "skew   =  0.057309354013608295\n",
      "kurt   =  -0.9261200338123423\n"
     ]
    }
   ],
   "source": [
    "import pandas as pd \n",
    "test=pd.read_excel(\"C:/Users/sudarson.SUDARSON/Documents/test.xlsx\")\n",
    "meanval=test.list1.mean()\n",
    "medianval=test.list1.median()\n",
    "modeval=test.list1.mode()\n",
    "stdval=test.list1.std()\n",
    "varval=test.list1.var()\n",
    "skewval=test.list1.skew()\n",
    "kurtval=test.list1.kurt()\n",
    "print(\"mean   = \",meanval)\n",
    "print(\"median = \",medianval)\n",
    "print(\"mode   = \",modeval)\n",
    "print(\"std    = \",stdval)\n",
    "print(\"var    = \",varval)\n",
    "print(\"skew   = \",skewval)\n",
    "print(\"kurt   = \",kurtval)"
   ]
  },
  {
   "cell_type": "code",
   "execution_count": null,
   "id": "adc34268",
   "metadata": {},
   "outputs": [],
   "source": []
  }
 ],
 "metadata": {
  "kernelspec": {
   "display_name": "Python 3 (ipykernel)",
   "language": "python",
   "name": "python3"
  },
  "language_info": {
   "codemirror_mode": {
    "name": "ipython",
    "version": 3
   },
   "file_extension": ".py",
   "mimetype": "text/x-python",
   "name": "python",
   "nbconvert_exporter": "python",
   "pygments_lexer": "ipython3",
   "version": "3.9.7"
  }
 },
 "nbformat": 4,
 "nbformat_minor": 5
}

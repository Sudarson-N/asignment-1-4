{
 "cells": [
  {
   "cell_type": "code",
   "execution_count": 3,
   "id": "bec1171d",
   "metadata": {},
   "outputs": [
    {
     "name": "stdout",
     "output_type": "stream",
     "text": [
      "ENTER THE mean711\n",
      "ENTER THE sigma29\n",
      " 1.(A<=x<=B)\n",
      " 2.(A=x)\n",
      " 3.(A<=x)\n",
      " 4.(A>=x)\n",
      "Enter the type of condition\n",
      "1\n",
      "enter A value= 700\n",
      "enter B value= 850\n",
      "0.6477704696037592\n"
     ]
    }
   ],
   "source": [
    "n1=int(input(\"ENTER THE mean\"))\n",
    "n2=int(input(\"ENTER THE sigma\"))\n",
    "from statistics import NormalDist\n",
    "nd = NormalDist(mu=n1,sigma=n2)\n",
    "print(\" 1.(A<=x<=B)\\n 2.(A=x)\\n 3.(A<=x)\\n 4.(A>=x)\\nEnter the type of condition\")\n",
    "type=int(input())\n",
    "if type ==1:\n",
    "    A=int(input(\"enter A value= \"))\n",
    "    B=int(input(\"enter B value= \"))\n",
    "    value=nd.cdf(B)-nd.cdf(A)\n",
    "    print(value)\n",
    "elif type==2:\n",
    "    print(0)\n",
    "elif type==3:\n",
    "    A=int(input(\"enter A value= \"))\n",
    "    value=nd.cdf(A)\n",
    "    print(value)\n",
    "elif type==4:\n",
    "    A=int(input(\"enter A value= \"))\n",
    "    value=1-nd.cdf(A)\n",
    "    print(value)"
   ]
  },
  {
   "cell_type": "code",
   "execution_count": null,
   "id": "21df6f64",
   "metadata": {},
   "outputs": [],
   "source": []
  }
 ],
 "metadata": {
  "kernelspec": {
   "display_name": "Python 3 (ipykernel)",
   "language": "python",
   "name": "python3"
  },
  "language_info": {
   "codemirror_mode": {
    "name": "ipython",
    "version": 3
   },
   "file_extension": ".py",
   "mimetype": "text/x-python",
   "name": "python",
   "nbconvert_exporter": "python",
   "pygments_lexer": "ipython3",
   "version": "3.9.7"
  }
 },
 "nbformat": 4,
 "nbformat_minor": 5
}
